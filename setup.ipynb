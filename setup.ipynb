{
 "cells": [
  {
   "cell_type": "code",
   "execution_count": 2,
   "id": "bbaa7981-42eb-4b59-b429-6f4ebdc3c57a",
   "metadata": {},
   "outputs": [],
   "source": [
    "import sys\n",
    "# We need sudo prefix if not on a Google Colab.\n",
    "if 'google.colab' not in sys.modules:\n",
    "  SUDO_IF_NEEDED = 'sudo'\n",
    "else:\n",
    "  SUDO_IF_NEEDED = ''"
   ]
  },
  {
   "cell_type": "code",
   "execution_count": 3,
   "id": "2cfa3640-4aa2-45be-8c46-d195c4f8a705",
   "metadata": {},
   "outputs": [
    {
     "data": {
      "text/plain": [
       "'sudo'"
      ]
     },
     "execution_count": 3,
     "metadata": {},
     "output_type": "execute_result"
    }
   ],
   "source": [
    "SUDO_IF_NEEDED"
   ]
  },
  {
   "cell_type": "code",
   "execution_count": null,
   "id": "666c6f51-2e35-4f71-80c7-32b62e37a18b",
   "metadata": {},
   "outputs": [],
   "source": [
    "# This is the same as you would do from your command line, but without the [arch=amd64], and no sudo\n",
    "# You would instead do:\n",
    "# echo \"deb [arch=amd64] http://storage.googleapis.com/tensorflow-serving-apt stable tensorflow-model-server tensorflow-model-server-universal\" | sudo tee /etc/apt/sources.list.d/tensorflow-serving.list && \\\n",
    "# curl https://storage.googleapis.com/tensorflow-serving-apt/tensorflow-serving.release.pub.gpg | sudo apt-key add -\n",
    "\n",
    "!echo \"deb http://storage.googleapis.com/tensorflow-serving-apt stable tensorflow-model-server tensorflow-model-server-universal\" | {SUDO_IF_NEEDED} tee /etc/apt/sources.list.d/tensorflow-serving.list && \\\n",
    "curl https://storage.googleapis.com/tensorflow-serving-apt/tensorflow-serving.release.pub.gpg | {SUDO_IF_NEEDED} apt-key add -\n",
    "!{SUDO_IF_NEEDED} apt update"
   ]
  },
  {
   "cell_type": "code",
   "execution_count": null,
   "id": "38138fd8-979a-43da-991d-5cafd0f8c601",
   "metadata": {},
   "outputs": [],
   "source": []
  }
 ],
 "metadata": {
  "kernelspec": {
   "display_name": "Python 3 (ipykernel)",
   "language": "python",
   "name": "python3"
  },
  "language_info": {
   "codemirror_mode": {
    "name": "ipython",
    "version": 3
   },
   "file_extension": ".py",
   "mimetype": "text/x-python",
   "name": "python",
   "nbconvert_exporter": "python",
   "pygments_lexer": "ipython3",
   "version": "3.9.16"
  }
 },
 "nbformat": 4,
 "nbformat_minor": 5
}
